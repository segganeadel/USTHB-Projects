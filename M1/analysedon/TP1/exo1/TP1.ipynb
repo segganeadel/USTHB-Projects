{
 "cells": [
  {
   "attachments": {},
   "cell_type": "markdown",
   "metadata": {},
   "source": [
    "Importation des bibliothèques"
   ]
  },
  {
   "cell_type": "code",
   "execution_count": 2,
   "metadata": {},
   "outputs": [],
   "source": [
    "import statistics as st\n",
    "import math \n",
    "import numpy as np\n",
    "import scipy as sp \n",
    "import pandas as pd \n",
    "import matplotlib.pyplot as plt"
   ]
  },
  {
   "attachments": {},
   "cell_type": "markdown",
   "metadata": {},
   "source": [
    "Question 1 :\n",
    "Creation du matrice des données"
   ]
  },
  {
   "cell_type": "code",
   "execution_count": 3,
   "metadata": {},
   "outputs": [
    {
     "name": "stdout",
     "output_type": "stream",
     "text": [
      "la matrice des donnés :\n",
      "      0     1     2     3\n",
      "0  14.0  13.0  1.50  45.0\n",
      "1  16.0  13.0  1.60  50.0\n",
      "2  15.0  13.0  1.65  50.0\n",
      "3   9.0  15.0  1.75  60.0\n",
      "4  10.0  14.0  1.70  60.0\n",
      "5   7.0  14.0  1.70  60.0\n",
      "6   8.0  14.0  1.60  70.0\n",
      "7  13.0  13.0  1.60  65.0\n",
      "8  17.0  15.0  1.55  60.0\n",
      "9  11.0  14.0  1.70  65.0 \n",
      "\n",
      "la matrice des donnés transposée :\n",
      "      0     1      2      3     4     5     6     7      8     9\n",
      "0  14.0  16.0  15.00   9.00  10.0   7.0   8.0  13.0  17.00  11.0\n",
      "1  13.0  13.0  13.00  15.00  14.0  14.0  14.0  13.0  15.00  14.0\n",
      "2   1.5   1.6   1.65   1.75   1.7   1.7   1.6   1.6   1.55   1.7\n",
      "3  45.0  50.0  50.00  60.00  60.0  60.0  70.0  65.0  60.00  65.0\n"
     ]
    }
   ],
   "source": [
    "#créer la matrice de données\n",
    "data = np.array (( [14,13,1.5,45], [16,13,1.6,50],[15,13,1.65,50],\n",
    "            [9,15,1.75,60],[10,14,1.7,60],[7,14,1.7,60],\n",
    "            [8,14,1.6,70],[13,13,1.6,65],[17,15,1.55,60],[11,14,1.7,65]))\n",
    "\n",
    "\n",
    "#les dimensions de la matrice des donnés \n",
    "dataHeight = data.shape[0]\n",
    "dataWidth = data.shape[1]\n",
    "\n",
    "#la matrice transposéé data_t\n",
    "data_t =np.transpose(data)\n",
    "\n",
    "#l'affichage des deux matrice \n",
    "x = pd.DataFrame(data)\n",
    "x_t = pd.DataFrame(data_t)\n",
    "\n",
    "print(\"la matrice des donnés :\")\n",
    "print(x ,\"\\n\")\n",
    "\n",
    "print(\"la matrice des donnés transposée :\")\n",
    "print(x_t)"
   ]
  },
  {
   "attachments": {},
   "cell_type": "markdown",
   "metadata": {},
   "source": [
    "Question 2 : la liste des individus "
   ]
  },
  {
   "cell_type": "code",
   "execution_count": 4,
   "metadata": {},
   "outputs": [
    {
     "name": "stdout",
     "output_type": "stream",
     "text": [
      "Individus 1:\n",
      "[14.0, 13.0, 1.5, 45.0] \n",
      "\n",
      "Individus 2:\n",
      "[16.0, 13.0, 1.6, 50.0] \n",
      "\n",
      "Individus 3:\n",
      "[15.0, 13.0, 1.65, 50.0] \n",
      "\n",
      "Individus 4:\n",
      "[9.0, 15.0, 1.75, 60.0] \n",
      "\n",
      "Individus 5:\n",
      "[10.0, 14.0, 1.7, 60.0] \n",
      "\n",
      "Individus 6:\n",
      "[7.0, 14.0, 1.7, 60.0] \n",
      "\n",
      "Individus 7:\n",
      "[8.0, 14.0, 1.6, 70.0] \n",
      "\n",
      "Individus 8:\n",
      "[13.0, 13.0, 1.6, 65.0] \n",
      "\n",
      "Individus 9:\n",
      "[17.0, 15.0, 1.55, 60.0] \n",
      "\n",
      "Individus 10:\n",
      "[11.0, 14.0, 1.7, 65.0] \n",
      "\n"
     ]
    }
   ],
   "source": [
    "for i in range(dataHeight):\n",
    "    print(\"Individus \"+str(i+1)+\":\")\n",
    "    print(data[i,:].tolist(),\"\\n\")"
   ]
  },
  {
   "attachments": {},
   "cell_type": "markdown",
   "metadata": {},
   "source": [
    "Question 3 : la liste des variables "
   ]
  },
  {
   "cell_type": "code",
   "execution_count": 5,
   "metadata": {},
   "outputs": [
    {
     "name": "stdout",
     "output_type": "stream",
     "text": [
      "Variable 1:\n",
      "[14.0, 16.0, 15.0, 9.0, 10.0, 7.0, 8.0, 13.0, 17.0, 11.0] \n",
      "\n",
      "Variable 2:\n",
      "[13.0, 13.0, 13.0, 15.0, 14.0, 14.0, 14.0, 13.0, 15.0, 14.0] \n",
      "\n",
      "Variable 3:\n",
      "[1.5, 1.6, 1.65, 1.75, 1.7, 1.7, 1.6, 1.6, 1.55, 1.7] \n",
      "\n",
      "Variable 4:\n",
      "[45.0, 50.0, 50.0, 60.0, 60.0, 60.0, 70.0, 65.0, 60.0, 65.0] \n",
      "\n"
     ]
    }
   ],
   "source": [
    "for i in range(dataWidth):\n",
    "    print(\"Variable \"+str(i+1)+\":\")\n",
    "    print(data[:,i].tolist(),\"\\n\")"
   ]
  },
  {
   "attachments": {},
   "cell_type": "markdown",
   "metadata": {},
   "source": [
    "Question 4 : Acceder aux individus 4,5,6"
   ]
  },
  {
   "cell_type": "code",
   "execution_count": 6,
   "metadata": {},
   "outputs": [
    {
     "name": "stdout",
     "output_type": "stream",
     "text": [
      "Individus 4:\n",
      "[9.0, 15.0, 1.75, 60.0] \n",
      "\n",
      "Individus 5:\n",
      "[10.0, 14.0, 1.7, 60.0] \n",
      "\n",
      "Individus 6:\n",
      "[7.0, 14.0, 1.7, 60.0] \n",
      "\n"
     ]
    }
   ],
   "source": [
    "for i in range(3,6):\n",
    "    print(\"Individus \"+str(i+1)+\":\")\n",
    "    print(data[i,:].tolist(),\"\\n\")"
   ]
  },
  {
   "attachments": {},
   "cell_type": "markdown",
   "metadata": {},
   "source": [
    "Question 5 : "
   ]
  },
  {
   "cell_type": "code",
   "execution_count": 7,
   "metadata": {},
   "outputs": [
    {
     "name": "stdout",
     "output_type": "stream",
     "text": [
      "la matrice X :\n",
      " [[[1.200e+01 1.380e+01 1.635e+00 5.850e+01]]\n",
      "\n",
      " [[1.100e+01 5.600e-01 6.000e-03 5.525e+01]]\n",
      "\n",
      " [[3.317e+00 7.480e-01 7.400e-02 7.433e+00]]]\n"
     ]
    }
   ],
   "source": [
    "#Calculer la moyenne arithmétique de chaque variable\n",
    "meanArr = []\n",
    "for i in range(0,4) :\n",
    "    meanArr.append(np.mean(data[:,i]))\n",
    "#print(meanArr)\n",
    "\n",
    "#Calculer la variance de chaque varible \n",
    "varArr = []\n",
    "for i in range(0,4) :\n",
    "    varArr.append(np.var(data[:,i]))\n",
    "#print(varArr)\n",
    "\n",
    "\n",
    "\n",
    "#Calaculer l'ecart type de chaque varible\n",
    "stdArr = []\n",
    "for i in range(0,4) :\n",
    "    stdArr.append(math.sqrt(varArr[i]))\n",
    "#print(stdArr)\n",
    "\n",
    "#Construction du tableau X\n",
    "X = np.array([[meanArr],[varArr],[stdArr]])\n",
    "X = np.round(X,3)\n",
    "print(\"la matrice X :\"'\\n',X)\n",
    "\n"
   ]
  },
  {
   "attachments": {},
   "cell_type": "markdown",
   "metadata": {},
   "source": [
    "Question 6 : le centre de gravité du nuage des donnés"
   ]
  },
  {
   "cell_type": "code",
   "execution_count": 8,
   "metadata": {},
   "outputs": [
    {
     "name": "stdout",
     "output_type": "stream",
     "text": [
      "le centre de gravité :\n",
      "         0\n",
      "0  12.000\n",
      "1  13.800\n",
      "2   1.635\n",
      "3  58.500\n"
     ]
    }
   ],
   "source": [
    "centreDeGravite = meanArr\n",
    "print(\"le centre de gravité :\"'\\n',pd.DataFrame(data=centreDeGravite))"
   ]
  },
  {
   "attachments": {},
   "cell_type": "markdown",
   "metadata": {},
   "source": [
    "Question 7 : les covariances possibles"
   ]
  },
  {
   "cell_type": "code",
   "execution_count": 9,
   "metadata": {},
   "outputs": [
    {
     "name": "stdout",
     "output_type": "stream",
     "text": [
      "la matrice des covariances :\n",
      "         0      1      2       3\n",
      "0  12.222 -0.889 -0.172 -15.556\n",
      "1  -0.889  0.622  0.024   3.000\n",
      "2  -0.172  0.024  0.006   0.225\n",
      "3 -15.556  3.000  0.225  61.389\n"
     ]
    }
   ],
   "source": [
    "#Matrice des covariances \n",
    "covMatrix = np.round(np.cov(data, bias=False , rowvar=False), 3)\n",
    "print(\"la matrice des covariances :\"'\\n',pd.DataFrame(data=covMatrix))"
   ]
  },
  {
   "attachments": {},
   "cell_type": "markdown",
   "metadata": {},
   "source": [
    "Question 8 : les coefficients de corrélations"
   ]
  },
  {
   "cell_type": "code",
   "execution_count": 10,
   "metadata": {},
   "outputs": [
    {
     "name": "stdout",
     "output_type": "stream",
     "text": [
      "coefficient de corrélation entre (Moyenne,Taille):\n",
      " [[ 1.    -0.629]\n",
      " [-0.629  1.   ]]\n",
      "coefficient de corrélation entre (Age,Poids): [[1.    0.485]\n",
      " [0.485 1.   ]]\n"
     ]
    }
   ],
   "source": [
    "#Coefficient de corrélation du couple :(Moyenne,Taille)\n",
    "coefficient1 = np.corrcoef(data[:,0],data[:,2])\n",
    "\n",
    "#Coefficient de corrélation du couple :(Age,Poids)\n",
    "coefficient2 = np.corrcoef(data[:,1],data[:,3])\n",
    "\n",
    "print(\"coefficient de corrélation entre (Moyenne,Taille):\"'\\n' ,np.round(coefficient1 , 3))\n",
    "print(\"coefficient de corrélation entre (Age,Poids):\" ,np.round(coefficient2 , 3))\n",
    "\n"
   ]
  },
  {
   "attachments": {},
   "cell_type": "markdown",
   "metadata": {},
   "source": [
    "d'après les résultats obtenu on déduire que :\n",
    "1- les deux variables (Moyenne,Taille) sont  linéairement liées dans le sens contraire car le coefficient et négative\n",
    "2- les deux variables (Age,Poids) sont  linéairement liées (colinéaires) "
   ]
  },
  {
   "attachments": {},
   "cell_type": "markdown",
   "metadata": {},
   "source": [
    "Question 9 : les valeurs et vecteurs propres du vecteur des covariances"
   ]
  },
  {
   "cell_type": "code",
   "execution_count": 11,
   "metadata": {},
   "outputs": [
    {
     "name": "stdout",
     "output_type": "stream",
     "text": [
      "les valeurs propres:\n",
      " [6.6048e+01 7.7150e+00 4.7300e-01 3.0000e-03]\n",
      "les vecteurs propres:\n",
      " [[-0.278  0.96  -0.016  0.014]\n",
      " [ 0.048 -0.003 -0.999 -0.024]\n",
      " [ 0.004 -0.013 -0.024  1.   ]\n",
      " [ 0.959  0.279  0.045  0.001]]\n"
     ]
    }
   ],
   "source": [
    "valeurPropres, vecteurPropres =np.linalg.eig(covMatrix)\n",
    "\n",
    "print(\"les valeurs propres:\"'\\n' ,np.round(valeurPropres , 3))\n",
    "print(\"les vecteurs propres:\"'\\n' ,np.round(vecteurPropres , 3))\n",
    "\n"
   ]
  },
  {
   "attachments": {},
   "cell_type": "markdown",
   "metadata": {},
   "source": [
    "Distance entre les individus "
   ]
  },
  {
   "cell_type": "code",
   "execution_count": 15,
   "metadata": {},
   "outputs": [
    {
     "name": "stdout",
     "output_type": "stream",
     "text": [
      "1.42\n",
      "2.24\n",
      "3.0\n"
     ]
    }
   ],
   "source": [
    "from scipy.spatial import distance\n",
    "\n",
    "dis1 = distance.euclidean(data[3,:] , data[4,:])\n",
    "dis2 = distance.euclidean(data[3,:] , data[5,:])\n",
    "dis3 = distance.euclidean(data[4,:] , data[5,:])\n",
    "print(round(dis1,2))\n",
    "print(round(dis2,2))\n",
    "print(round(dis3,2))"
   ]
  },
  {
   "cell_type": "code",
   "execution_count": 16,
   "metadata": {},
   "outputs": [],
   "source": [
    "data[:,2] = data[:,2]*100"
   ]
  },
  {
   "cell_type": "code",
   "execution_count": 17,
   "metadata": {},
   "outputs": [
    {
     "name": "stdout",
     "output_type": "stream",
     "text": [
      "5.2\n",
      "5.48\n",
      "3.0\n"
     ]
    }
   ],
   "source": [
    "dis1 = distance.euclidean(data[3,:] , data[4,:])\n",
    "dis2 = distance.euclidean(data[3,:] , data[5,:])\n",
    "dis3 = distance.euclidean(data[4,:] , data[5,:])\n",
    "print(round(dis1,2))\n",
    "print(round(dis2,2))\n",
    "print(round(dis3,2))"
   ]
  },
  {
   "cell_type": "code",
   "execution_count": 24,
   "metadata": {},
   "outputs": [
    {
     "name": "stdout",
     "output_type": "stream",
     "text": [
      "          0         1         2         3\n",
      "0  1.000000 -0.322329 -0.628737 -0.567892\n",
      "1 -0.322329  1.000000  0.395515  0.485404\n",
      "2 -0.628737  0.395515  1.000000  0.366516\n",
      "3 -0.567892  0.485404  0.366516  1.000000\n"
     ]
    }
   ],
   "source": [
    "data = pd.DataFrame(data=data)\n",
    "cormat = data.corr()\n",
    "print(cormat)"
   ]
  },
  {
   "cell_type": "code",
   "execution_count": null,
   "metadata": {},
   "outputs": [],
   "source": []
  }
 ],
 "metadata": {
  "kernelspec": {
   "display_name": "base",
   "language": "python",
   "name": "python3"
  },
  "language_info": {
   "codemirror_mode": {
    "name": "ipython",
    "version": 3
   },
   "file_extension": ".py",
   "mimetype": "text/x-python",
   "name": "python",
   "nbconvert_exporter": "python",
   "pygments_lexer": "ipython3",
   "version": "3.9.12"
  },
  "orig_nbformat": 4,
  "vscode": {
   "interpreter": {
    "hash": "44ffa7779df0cf56839b12828d5bdcf59282a5db26ee1685b63752b2093908db"
   }
  }
 },
 "nbformat": 4,
 "nbformat_minor": 2
}
