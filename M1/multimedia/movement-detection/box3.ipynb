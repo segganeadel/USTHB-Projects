{
 "cells": [
  {
   "cell_type": "code",
   "execution_count": 55,
   "metadata": {},
   "outputs": [],
   "source": [
    "import matplotlib.pyplot as plt\n",
    "import cv2\n",
    "import numpy as np\n",
    "from math import inf"
   ]
  },
  {
   "cell_type": "code",
   "execution_count": 56,
   "metadata": {},
   "outputs": [],
   "source": [
    "def MSE(block1, block2):\n",
    "    return np.sum((block1.astype(\"float\") - block2.astype(\"float\")) ** 2) / float(block1.shape[0] * block1.shape[1])\n",
    "\n",
    "def search(bloc1,searchBox,searchImg,bloc_width,bloc_height):\n",
    "    mse = +inf\n",
    "    limitX = (searchBox[1][0] - bloc_width) + 1\n",
    "    limitY = (searchBox[1][1] - bloc_height)+ 1\n",
    "    box2_coordinates = None\n",
    "\n",
    "    for y in range(searchBox[0][1],limitY):\n",
    "        for x in range(searchBox[0][0],limitX):\n",
    "                bloc2 = searchImg[y:y+bloc_height,x:x+bloc_width]\n",
    "                temp = MSE(bloc1,bloc2)\n",
    "                if temp < mse:\n",
    "                    mse = temp\n",
    "                    box2_coordinates=[(x,y),(x+bloc_width,y+bloc_height)]\n",
    "    return box2_coordinates\n",
    "\n",
    "def binarySearch(bloc1,searchBox,searchImg,bloc_width,bloc_height,width,height,span):\n",
    "    mse = +inf\n",
    "    limitX = (searchBox[1][0] - bloc_width) + 1\n",
    "    limitY = (searchBox[1][1] - bloc_height)+ 1\n",
    "    box2_coordinates = None\n",
    "\n",
    "    for y in range(searchBox[0][1],limitY,bloc_height):\n",
    "        for x in range(searchBox[0][0],limitX,bloc_width):\n",
    "                bloc2 = searchImg[y:y+bloc_height,x:x+bloc_width]\n",
    "                temp = MSE(bloc1,bloc2)\n",
    "                if temp < mse:\n",
    "                    mse = temp\n",
    "                    box2_coordinates=[(x,y),(x+bloc_width,y+bloc_height)]\n",
    "    searchBox = get_searchBox(box2_coordinates,width,height,span)\n",
    "    print(searchBox,span)\n",
    "    if searchBox[1][0] - searchBox[0][0] <= bloc_width or searchBox[1][1] - searchBox[0][1] <= bloc_height:\n",
    "        return box2_coordinates\n",
    "    else:\n",
    "        return_value = binarySearch(bloc1,searchBox,searchImg,bloc_width,bloc_height,width,height,span//2)\n",
    "        return return_value\n",
    "\n",
    "\n",
    "\n",
    "def get_searchBox(coordinates,width,height,span):\n",
    "\n",
    "    if coordinates[0][0] < span : topLeftX = 0\n",
    "    elif coordinates[0][0] > width - span : topLeftX = width - span\n",
    "    else : topLeftX = coordinates[0][0] - span\n",
    "\n",
    "    if coordinates[0][1] < span : topLeftY = 0\n",
    "    elif coordinates[0][1] > height - span : topLeftY = height - span\n",
    "    else : topLeftY = coordinates[0][1] - span\n",
    "\n",
    "    if coordinates[1][0] > width - span : bottomRightX = width\n",
    "    else : bottomRightX = coordinates[1][0] + span\n",
    "\n",
    "    if coordinates[1][1] > height - span : bottomRightY = height\n",
    "    else : bottomRightY = coordinates[1][1] + span\n",
    "\n",
    "    return [(topLeftX,topLeftY),(bottomRightX,bottomRightY)]\n",
    "    \n",
    "\n",
    "def draw_greenBox(img,coordinates):\n",
    "    if coordinates is not None:\n",
    "        cv2.rectangle(img, \n",
    "        (coordinates[0][0], coordinates[0][1]), \n",
    "        (coordinates[1][0], coordinates[1][1]), \n",
    "        (0 , 255, 0), 2)\n",
    "\n",
    "def draw_redBox(img,coordinates):\n",
    "    if coordinates is not None:\n",
    "        cv2.rectangle(img, \n",
    "        (coordinates[0][0], coordinates[0][1]), \n",
    "        (coordinates[1][0], coordinates[1][1]), \n",
    "        (0, 0, 255), 2)"
   ]
  },
  {
   "cell_type": "code",
   "execution_count": 57,
   "metadata": {},
   "outputs": [
    {
     "name": "stdout",
     "output_type": "stream",
     "text": [
      "510.18225839120373\n"
     ]
    }
   ],
   "source": [
    "bloc_width,bloc_height = 16,16\n",
    "seuil = 50\n",
    "span = 32\n",
    "\n",
    "image2 = \"image072.png\"\n",
    "image1 = \"image092.png\"\n",
    "\n",
    "\n",
    "img1 = cv2.imread(image1)\n",
    "img2 = cv2.imread(image2)\n",
    "\n",
    "img = np.zeros((img1.shape[0],img1.shape[1],3)).astype(np.uint8)\n",
    "\n",
    "\n",
    "Timg1 = cv2.cvtColor(img1, cv2.COLOR_BGR2YCrCb)\n",
    "Yimg1 = Timg1[:,:,0]\n",
    "\n",
    "Timg2 = cv2.cvtColor(img2, cv2.COLOR_BGR2YCrCb)\n",
    "Yimg2 = Timg2[:,:,0]\n",
    "\n",
    "\n",
    "width = Yimg1.shape[1]\n",
    "height = Yimg1.shape[0]\n",
    "\n",
    "print(MSE(Yimg1,Yimg2))"
   ]
  },
  {
   "cell_type": "code",
   "execution_count": 58,
   "metadata": {},
   "outputs": [
    {
     "ename": "KeyboardInterrupt",
     "evalue": "",
     "output_type": "error",
     "traceback": [
      "\u001b[0;31m---------------------------------------------------------------------------\u001b[0m",
      "\u001b[0;31mKeyboardInterrupt\u001b[0m                         Traceback (most recent call last)",
      "\u001b[0;32m/tmp/ipykernel_13291/4093340066.py\u001b[0m in \u001b[0;36m<module>\u001b[0;34m\u001b[0m\n\u001b[1;32m     14\u001b[0m             \u001b[0mdraw_redBox\u001b[0m\u001b[0;34m(\u001b[0m\u001b[0mimg1\u001b[0m\u001b[0;34m,\u001b[0m\u001b[0mcoordinates\u001b[0m\u001b[0;34m)\u001b[0m\u001b[0;34m\u001b[0m\u001b[0;34m\u001b[0m\u001b[0m\n\u001b[1;32m     15\u001b[0m             \u001b[0msearchBox\u001b[0m \u001b[0;34m=\u001b[0m \u001b[0mget_searchBox\u001b[0m\u001b[0;34m(\u001b[0m\u001b[0mcoordinates\u001b[0m\u001b[0;34m,\u001b[0m\u001b[0mwidth\u001b[0m\u001b[0;34m,\u001b[0m\u001b[0mheight\u001b[0m\u001b[0;34m,\u001b[0m\u001b[0mspan\u001b[0m\u001b[0;34m)\u001b[0m\u001b[0;34m\u001b[0m\u001b[0;34m\u001b[0m\u001b[0m\n\u001b[0;32m---> 16\u001b[0;31m             \u001b[0mgreenBox\u001b[0m \u001b[0;34m=\u001b[0m \u001b[0msearch\u001b[0m\u001b[0;34m(\u001b[0m\u001b[0mbloc1\u001b[0m\u001b[0;34m,\u001b[0m\u001b[0msearchBox\u001b[0m\u001b[0;34m,\u001b[0m\u001b[0mYimg2\u001b[0m\u001b[0;34m,\u001b[0m\u001b[0mbloc_width\u001b[0m\u001b[0;34m,\u001b[0m\u001b[0mbloc_height\u001b[0m\u001b[0;34m)\u001b[0m\u001b[0;34m\u001b[0m\u001b[0;34m\u001b[0m\u001b[0m\n\u001b[0m\u001b[1;32m     17\u001b[0m             \u001b[0;31m#greenBox = binarySearch(bloc1,searchBox,Yimg2,bloc_width,bloc_height,width,height,span//2)\u001b[0m\u001b[0;34m\u001b[0m\u001b[0;34m\u001b[0m\u001b[0m\n\u001b[1;32m     18\u001b[0m             \u001b[0;31m#draw_greenBox(img2,greenBox)\u001b[0m\u001b[0;34m\u001b[0m\u001b[0;34m\u001b[0m\u001b[0m\n",
      "\u001b[0;32m/tmp/ipykernel_13291/2578642127.py\u001b[0m in \u001b[0;36msearch\u001b[0;34m(bloc1, searchBox, searchImg, bloc_width, bloc_height)\u001b[0m\n\u001b[1;32m     11\u001b[0m         \u001b[0;32mfor\u001b[0m \u001b[0mx\u001b[0m \u001b[0;32min\u001b[0m \u001b[0mrange\u001b[0m\u001b[0;34m(\u001b[0m\u001b[0msearchBox\u001b[0m\u001b[0;34m[\u001b[0m\u001b[0;36m0\u001b[0m\u001b[0;34m]\u001b[0m\u001b[0;34m[\u001b[0m\u001b[0;36m0\u001b[0m\u001b[0;34m]\u001b[0m\u001b[0;34m,\u001b[0m\u001b[0mlimitX\u001b[0m\u001b[0;34m)\u001b[0m\u001b[0;34m:\u001b[0m\u001b[0;34m\u001b[0m\u001b[0;34m\u001b[0m\u001b[0m\n\u001b[1;32m     12\u001b[0m                 \u001b[0mbloc2\u001b[0m \u001b[0;34m=\u001b[0m \u001b[0msearchImg\u001b[0m\u001b[0;34m[\u001b[0m\u001b[0my\u001b[0m\u001b[0;34m:\u001b[0m\u001b[0my\u001b[0m\u001b[0;34m+\u001b[0m\u001b[0mbloc_height\u001b[0m\u001b[0;34m,\u001b[0m\u001b[0mx\u001b[0m\u001b[0;34m:\u001b[0m\u001b[0mx\u001b[0m\u001b[0;34m+\u001b[0m\u001b[0mbloc_width\u001b[0m\u001b[0;34m]\u001b[0m\u001b[0;34m\u001b[0m\u001b[0;34m\u001b[0m\u001b[0m\n\u001b[0;32m---> 13\u001b[0;31m                 \u001b[0mtemp\u001b[0m \u001b[0;34m=\u001b[0m \u001b[0mMSE\u001b[0m\u001b[0;34m(\u001b[0m\u001b[0mbloc1\u001b[0m\u001b[0;34m,\u001b[0m\u001b[0mbloc2\u001b[0m\u001b[0;34m)\u001b[0m\u001b[0;34m\u001b[0m\u001b[0;34m\u001b[0m\u001b[0m\n\u001b[0m\u001b[1;32m     14\u001b[0m                 \u001b[0;32mif\u001b[0m \u001b[0mtemp\u001b[0m \u001b[0;34m<\u001b[0m \u001b[0mmse\u001b[0m\u001b[0;34m:\u001b[0m\u001b[0;34m\u001b[0m\u001b[0;34m\u001b[0m\u001b[0m\n\u001b[1;32m     15\u001b[0m                     \u001b[0mmse\u001b[0m \u001b[0;34m=\u001b[0m \u001b[0mtemp\u001b[0m\u001b[0;34m\u001b[0m\u001b[0;34m\u001b[0m\u001b[0m\n",
      "\u001b[0;32m/tmp/ipykernel_13291/2578642127.py\u001b[0m in \u001b[0;36mMSE\u001b[0;34m(block1, block2)\u001b[0m\n\u001b[1;32m      1\u001b[0m \u001b[0;32mdef\u001b[0m \u001b[0mMSE\u001b[0m\u001b[0;34m(\u001b[0m\u001b[0mblock1\u001b[0m\u001b[0;34m,\u001b[0m \u001b[0mblock2\u001b[0m\u001b[0;34m)\u001b[0m\u001b[0;34m:\u001b[0m\u001b[0;34m\u001b[0m\u001b[0;34m\u001b[0m\u001b[0m\n\u001b[0;32m----> 2\u001b[0;31m     \u001b[0;32mreturn\u001b[0m \u001b[0mnp\u001b[0m\u001b[0;34m.\u001b[0m\u001b[0msum\u001b[0m\u001b[0;34m(\u001b[0m\u001b[0;34m(\u001b[0m\u001b[0mblock1\u001b[0m\u001b[0;34m.\u001b[0m\u001b[0mastype\u001b[0m\u001b[0;34m(\u001b[0m\u001b[0;34m\"float\"\u001b[0m\u001b[0;34m)\u001b[0m \u001b[0;34m-\u001b[0m \u001b[0mblock2\u001b[0m\u001b[0;34m.\u001b[0m\u001b[0mastype\u001b[0m\u001b[0;34m(\u001b[0m\u001b[0;34m\"float\"\u001b[0m\u001b[0;34m)\u001b[0m\u001b[0;34m)\u001b[0m \u001b[0;34m**\u001b[0m \u001b[0;36m2\u001b[0m\u001b[0;34m)\u001b[0m \u001b[0;34m/\u001b[0m \u001b[0mfloat\u001b[0m\u001b[0;34m(\u001b[0m\u001b[0mblock1\u001b[0m\u001b[0;34m.\u001b[0m\u001b[0mshape\u001b[0m\u001b[0;34m[\u001b[0m\u001b[0;36m0\u001b[0m\u001b[0;34m]\u001b[0m \u001b[0;34m*\u001b[0m \u001b[0mblock1\u001b[0m\u001b[0;34m.\u001b[0m\u001b[0mshape\u001b[0m\u001b[0;34m[\u001b[0m\u001b[0;36m1\u001b[0m\u001b[0;34m]\u001b[0m\u001b[0;34m)\u001b[0m\u001b[0;34m\u001b[0m\u001b[0;34m\u001b[0m\u001b[0m\n\u001b[0m\u001b[1;32m      3\u001b[0m \u001b[0;34m\u001b[0m\u001b[0m\n\u001b[1;32m      4\u001b[0m \u001b[0;32mdef\u001b[0m \u001b[0msearch\u001b[0m\u001b[0;34m(\u001b[0m\u001b[0mbloc1\u001b[0m\u001b[0;34m,\u001b[0m\u001b[0msearchBox\u001b[0m\u001b[0;34m,\u001b[0m\u001b[0msearchImg\u001b[0m\u001b[0;34m,\u001b[0m\u001b[0mbloc_width\u001b[0m\u001b[0;34m,\u001b[0m\u001b[0mbloc_height\u001b[0m\u001b[0;34m)\u001b[0m\u001b[0;34m:\u001b[0m\u001b[0;34m\u001b[0m\u001b[0;34m\u001b[0m\u001b[0m\n\u001b[1;32m      5\u001b[0m     \u001b[0mmse\u001b[0m \u001b[0;34m=\u001b[0m \u001b[0;34m+\u001b[0m\u001b[0minf\u001b[0m\u001b[0;34m\u001b[0m\u001b[0;34m\u001b[0m\u001b[0m\n",
      "\u001b[0;32m~/.local/lib/python3.10/site-packages/numpy/core/overrides.py\u001b[0m in \u001b[0;36msum\u001b[0;34m(*args, **kwargs)\u001b[0m\n",
      "\u001b[0;32m~/.local/lib/python3.10/site-packages/numpy/core/fromnumeric.py\u001b[0m in \u001b[0;36msum\u001b[0;34m(a, axis, dtype, out, keepdims, initial, where)\u001b[0m\n\u001b[1;32m   2296\u001b[0m         \u001b[0;32mreturn\u001b[0m \u001b[0mres\u001b[0m\u001b[0;34m\u001b[0m\u001b[0;34m\u001b[0m\u001b[0m\n\u001b[1;32m   2297\u001b[0m \u001b[0;34m\u001b[0m\u001b[0m\n\u001b[0;32m-> 2298\u001b[0;31m     return _wrapreduction(a, np.add, 'sum', axis, dtype, out, keepdims=keepdims,\n\u001b[0m\u001b[1;32m   2299\u001b[0m                           initial=initial, where=where)\n\u001b[1;32m   2300\u001b[0m \u001b[0;34m\u001b[0m\u001b[0m\n",
      "\u001b[0;32m~/.local/lib/python3.10/site-packages/numpy/core/fromnumeric.py\u001b[0m in \u001b[0;36m_wrapreduction\u001b[0;34m(obj, ufunc, method, axis, dtype, out, **kwargs)\u001b[0m\n\u001b[1;32m     67\u001b[0m \u001b[0;34m\u001b[0m\u001b[0m\n\u001b[1;32m     68\u001b[0m \u001b[0;34m\u001b[0m\u001b[0m\n\u001b[0;32m---> 69\u001b[0;31m \u001b[0;32mdef\u001b[0m \u001b[0m_wrapreduction\u001b[0m\u001b[0;34m(\u001b[0m\u001b[0mobj\u001b[0m\u001b[0;34m,\u001b[0m \u001b[0mufunc\u001b[0m\u001b[0;34m,\u001b[0m \u001b[0mmethod\u001b[0m\u001b[0;34m,\u001b[0m \u001b[0maxis\u001b[0m\u001b[0;34m,\u001b[0m \u001b[0mdtype\u001b[0m\u001b[0;34m,\u001b[0m \u001b[0mout\u001b[0m\u001b[0;34m,\u001b[0m \u001b[0;34m**\u001b[0m\u001b[0mkwargs\u001b[0m\u001b[0;34m)\u001b[0m\u001b[0;34m:\u001b[0m\u001b[0;34m\u001b[0m\u001b[0;34m\u001b[0m\u001b[0m\n\u001b[0m\u001b[1;32m     70\u001b[0m     passkwargs = {k: v for k, v in kwargs.items()\n\u001b[1;32m     71\u001b[0m                   if v is not np._NoValue}\n",
      "\u001b[0;31mKeyboardInterrupt\u001b[0m: "
     ]
    }
   ],
   "source": [
    "limitX = width - (width % bloc_height)\n",
    "limitY = height- (height % bloc_height)\n",
    "\n",
    "for y in range (0,limitY,bloc_height):\n",
    "    for x in range(0,limitX,bloc_width):\n",
    "        topLeftX = x\n",
    "        topLeftY = y\n",
    "        bottomRightX = x+bloc_width\n",
    "        bottomRightY = y+bloc_height\n",
    "        bloc1 = Yimg1[topLeftY:bottomRightY,topLeftX:bottomRightX]\n",
    "        bloc2 = Yimg2[topLeftY:bottomRightY,topLeftX:bottomRightX]\n",
    "        if seuil < MSE(bloc1,bloc2):\n",
    "            coordinates = [(topLeftX,topLeftY),(bottomRightX,bottomRightY)]\n",
    "            draw_redBox(img1,coordinates)\n",
    "            searchBox = get_searchBox(coordinates,width,height,span)\n",
    "            greenBox = search(bloc1,searchBox,Yimg2,bloc_width,bloc_height)\n",
    "            #greenBox = binarySearch(bloc1,searchBox,Yimg2,bloc_width,bloc_height,width,height,span//2)\n",
    "            #draw_greenBox(img2,greenBox)\n",
    "            img[topLeftY:bottomRightY,topLeftX:bottomRightX] = img1[greenBox[0][1]:greenBox[1][1],greenBox[0][0]:greenBox[1][0]]\n",
    "\n",
    "\n",
    "rows = 1\n",
    "columns = 2\n",
    "\n",
    "fig = plt.figure(figsize = (30,20))\n",
    "\n",
    "fig.add_subplot(rows, columns, 1)\n",
    "plt.imshow(img,cmap=bgr)\n",
    "plt.axis('off')\n",
    "\n",
    "fig.add_subplot(rows, columns, 2)\n",
    "plt.imshow(img2)\n",
    "plt.axis('off')\n"
   ]
  }
 ],
 "metadata": {
  "kernelspec": {
   "display_name": "Python 3.10.6 64-bit",
   "language": "python",
   "name": "python3"
  },
  "language_info": {
   "codemirror_mode": {
    "name": "ipython",
    "version": 3
   },
   "file_extension": ".py",
   "mimetype": "text/x-python",
   "name": "python",
   "nbconvert_exporter": "python",
   "pygments_lexer": "ipython3",
   "version": "3.10.6"
  },
  "orig_nbformat": 4,
  "vscode": {
   "interpreter": {
    "hash": "916dbcbb3f70747c44a77c7bcd40155683ae19c65e1c03b4aa3499c5328201f1"
   }
  }
 },
 "nbformat": 4,
 "nbformat_minor": 2
}
