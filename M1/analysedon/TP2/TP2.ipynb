{
 "cells": [
  {
   "cell_type": "code",
   "execution_count": 1,
   "metadata": {},
   "outputs": [],
   "source": [
    "import numpy as np"
   ]
  },
  {
   "cell_type": "code",
   "execution_count": 2,
   "metadata": {},
   "outputs": [
    {
     "data": {
      "text/plain": [
       "array([[14.  , 13.  ,  1.5 , 45.  ],\n",
       "       [16.  , 13.  ,  1.6 , 50.  ],\n",
       "       [15.  , 13.  ,  1.65, 50.  ],\n",
       "       [ 9.  , 15.  ,  1.75, 60.  ],\n",
       "       [10.  , 14.  ,  1.7 , 60.  ],\n",
       "       [ 7.  , 14.  ,  1.7 , 60.  ],\n",
       "       [ 8.  , 14.  ,  1.6 , 70.  ],\n",
       "       [13.  , 13.  ,  1.6 , 65.  ],\n",
       "       [17.  , 15.  ,  1.55, 60.  ],\n",
       "       [11.  , 14.  ,  1.7 , 65.  ]])"
      ]
     },
     "execution_count": 2,
     "metadata": {},
     "output_type": "execute_result"
    }
   ],
   "source": [
    "X = np.array (( [14,13,1.5,45], [16,13,1.6,50],[15,13,1.65,50],\n",
    "            [9,15,1.75,60],[10,14,1.7,60],[7,14,1.7,60],\n",
    "            [8,14,1.6,70],[13,13,1.6,65],[17,15,1.55,60],[11,14,1.7,65]))\n",
    "X\n"
   ]
  },
  {
   "cell_type": "code",
   "execution_count": 3,
   "metadata": {},
   "outputs": [
    {
     "data": {
      "text/plain": [
       "array([12.   , 13.8  ,  1.635, 58.5  ])"
      ]
     },
     "execution_count": 3,
     "metadata": {},
     "output_type": "execute_result"
    }
   ],
   "source": [
    "g = X.mean(0)\n",
    "g"
   ]
  },
  {
   "cell_type": "code",
   "execution_count": 4,
   "metadata": {},
   "outputs": [
    {
     "data": {
      "text/plain": [
       "array([[  2.   ,  -0.8  ,  -0.135, -13.5  ],\n",
       "       [  4.   ,  -0.8  ,  -0.035,  -8.5  ],\n",
       "       [  3.   ,  -0.8  ,   0.015,  -8.5  ],\n",
       "       [ -3.   ,   1.2  ,   0.115,   1.5  ],\n",
       "       [ -2.   ,   0.2  ,   0.065,   1.5  ],\n",
       "       [ -5.   ,   0.2  ,   0.065,   1.5  ],\n",
       "       [ -4.   ,   0.2  ,  -0.035,  11.5  ],\n",
       "       [  1.   ,  -0.8  ,  -0.035,   6.5  ],\n",
       "       [  5.   ,   1.2  ,  -0.085,   1.5  ],\n",
       "       [ -1.   ,   0.2  ,   0.065,   6.5  ]])"
      ]
     },
     "execution_count": 4,
     "metadata": {},
     "output_type": "execute_result"
    }
   ],
   "source": [
    "Y = X-g\n",
    "Y"
   ]
  },
  {
   "cell_type": "code",
   "execution_count": 5,
   "metadata": {},
   "outputs": [
    {
     "data": {
      "text/plain": [
       "array([1.100e+01, 5.600e-01, 5.525e-03, 5.525e+01])"
      ]
     },
     "execution_count": 5,
     "metadata": {},
     "output_type": "execute_result"
    }
   ],
   "source": [
    "var = X.var(0)\n",
    "var"
   ]
  },
  {
   "cell_type": "code",
   "execution_count": 6,
   "metadata": {},
   "outputs": [
    {
     "data": {
      "text/plain": [
       "array([3.31662479, 0.74833148, 0.07433034, 7.43303437])"
      ]
     },
     "execution_count": 6,
     "metadata": {},
     "output_type": "execute_result"
    }
   ],
   "source": [
    "ect = np.std(X,0)\n",
    "ect"
   ]
  },
  {
   "cell_type": "code",
   "execution_count": 7,
   "metadata": {},
   "outputs": [
    {
     "data": {
      "text/plain": [
       "array([[ 0.60302269, -1.06904497, -1.81621654, -1.81621654],\n",
       "       [ 1.20604538, -1.06904497, -0.47087096, -1.14354375],\n",
       "       [ 0.90453403, -1.06904497,  0.20180184, -1.14354375],\n",
       "       [-0.90453403,  1.60356745,  1.54714743,  0.20180184],\n",
       "       [-0.60302269,  0.26726124,  0.87447463,  0.20180184],\n",
       "       [-1.50755672,  0.26726124,  0.87447463,  0.20180184],\n",
       "       [-1.20604538,  0.26726124, -0.47087096,  1.54714743],\n",
       "       [ 0.30151134, -1.06904497, -0.47087096,  0.87447463],\n",
       "       [ 1.50755672,  1.60356745, -1.14354375,  0.20180184],\n",
       "       [-0.30151134,  0.26726124,  0.87447463,  0.87447463]])"
      ]
     },
     "execution_count": 7,
     "metadata": {},
     "output_type": "execute_result"
    }
   ],
   "source": [
    "Z = Y/ect\n",
    "Z"
   ]
  },
  {
   "cell_type": "code",
   "execution_count": 8,
   "metadata": {},
   "outputs": [
    {
     "data": {
      "text/plain": [
       "array([[ 1.100e+01, -8.000e-01, -1.550e-01, -1.400e+01],\n",
       "       [-8.000e-01,  5.600e-01,  2.200e-02,  2.700e+00],\n",
       "       [-1.550e-01,  2.200e-02,  5.525e-03,  2.025e-01],\n",
       "       [-1.400e+01,  2.700e+00,  2.025e-01,  5.525e+01]])"
      ]
     },
     "execution_count": 8,
     "metadata": {},
     "output_type": "execute_result"
    }
   ],
   "source": [
    "cov = np.cov(X,rowvar=False,bias=True)\n",
    "cov"
   ]
  },
  {
   "cell_type": "code",
   "execution_count": 9,
   "metadata": {},
   "outputs": [
    {
     "data": {
      "text/plain": [
       "array([[ 1.        , -0.32232919, -0.62873728, -0.56789174],\n",
       "       [-0.32232919,  1.        ,  0.39551461,  0.48540429],\n",
       "       [-0.62873728,  0.39551461,  1.        ,  0.36651584],\n",
       "       [-0.56789174,  0.48540429,  0.36651584,  1.        ]])"
      ]
     },
     "execution_count": 9,
     "metadata": {},
     "output_type": "execute_result"
    }
   ],
   "source": [
    "corr = np.corrcoef(X,rowvar=False)\n",
    "corr"
   ]
  },
  {
   "cell_type": "code",
   "execution_count": 10,
   "metadata": {},
   "outputs": [
    {
     "name": "stdout",
     "output_type": "stream",
     "text": [
      "[2.39089885 0.27438366 0.75031143 0.58440607]\n",
      "[[ 0.53834812 -0.67153553 -0.43812579 -0.25935907]\n",
      " [-0.44530321  0.28548823 -0.70578764 -0.47123808]\n",
      " [-0.50383507 -0.5041931   0.46470353 -0.52534767]\n",
      " [-0.50797301 -0.46187209 -0.30652934  0.65930066]]\n"
     ]
    }
   ],
   "source": [
    "valeursProp , vecteursProp = np.linalg.eig(corr)\n",
    "print(valeursProp)\n",
    "print(vecteursProp)"
   ]
  },
  {
   "cell_type": "code",
   "execution_count": 11,
   "metadata": {},
   "outputs": [
    {
     "data": {
      "text/plain": [
       "array([[ 2.39089885,  0.53834812, -0.67153553, -0.43812579, -0.25935907],\n",
       "       [ 0.27438366, -0.44530321,  0.28548823, -0.70578764, -0.47123808],\n",
       "       [ 0.75031143, -0.50383507, -0.5041931 ,  0.46470353, -0.52534767],\n",
       "       [ 0.58440607, -0.50797301, -0.46187209, -0.30652934,  0.65930066]])"
      ]
     },
     "execution_count": 11,
     "metadata": {},
     "output_type": "execute_result"
    }
   ],
   "source": [
    "Propmat = np.column_stack((valeursProp , vecteursProp))\n",
    "Propmat"
   ]
  },
  {
   "cell_type": "code",
   "execution_count": 101,
   "metadata": {},
   "outputs": [
    {
     "name": "stdout",
     "output_type": "stream",
     "text": [
      "[[ 0.27438366 -0.50797301 -0.67153553 -0.70578764 -0.52534767]\n",
      " [ 0.58440607 -0.50383507 -0.5041931  -0.43812579 -0.47123808]\n",
      " [ 0.75031143 -0.44530321 -0.46187209 -0.30652934 -0.25935907]\n",
      " [ 2.39089885  0.53834812  0.28548823  0.46470353  0.65930066]]\n"
     ]
    }
   ],
   "source": [
    "Propmat.sort(0)\n",
    "print(Propmat)"
   ]
  },
  {
   "cell_type": "code",
   "execution_count": 102,
   "metadata": {},
   "outputs": [
    {
     "data": {
      "text/plain": [
       "array([[ 0.27438366, -0.50797301, -0.67153553, -0.70578764, -0.52534767],\n",
       "       [ 0.58440607, -0.50383507, -0.5041931 , -0.43812579, -0.47123808],\n",
       "       [ 0.75031143, -0.44530321, -0.46187209, -0.30652934, -0.25935907],\n",
       "       [ 2.39089885,  0.53834812,  0.28548823,  0.46470353,  0.65930066]])"
      ]
     },
     "execution_count": 102,
     "metadata": {},
     "output_type": "execute_result"
    }
   ],
   "source": [
    "Propmat = Propmat[Propmat[:, 0].argsort()]\n",
    "Propmat"
   ]
  },
  {
   "cell_type": "code",
   "execution_count": 103,
   "metadata": {},
   "outputs": [],
   "source": [
    "valeursProp = sorted(valeursProp,reverse=True)"
   ]
  },
  {
   "cell_type": "code",
   "execution_count": 104,
   "metadata": {},
   "outputs": [
    {
     "data": {
      "text/plain": [
       "array([[2.39089885, 0.59772471, 0.59772471],\n",
       "       [0.75031143, 0.18757786, 0.78530257],\n",
       "       [0.58440607, 0.14610152, 0.93140409],\n",
       "       [0.27438366, 0.06859591, 1.        ]])"
      ]
     },
     "execution_count": 104,
     "metadata": {},
     "output_type": "execute_result"
    }
   ],
   "source": [
    "total_var = np.sum(valeursProp)\n",
    "\n",
    "var_explained = valeursProp / total_var\n",
    "\n",
    "cum_var_explained = np.cumsum(var_explained)\n",
    "\n",
    "info_matrix = np.column_stack((valeursProp, var_explained, cum_var_explained))\n",
    "\n",
    "info_matrix"
   ]
  },
  {
   "cell_type": "code",
   "execution_count": 105,
   "metadata": {},
   "outputs": [
    {
     "data": {
      "text/plain": [
       "array([[-0.50797301, -0.67153553, -0.70578764, -0.52534767],\n",
       "       [-0.50383507, -0.5041931 , -0.43812579, -0.47123808],\n",
       "       [-0.44530321, -0.46187209, -0.30652934, -0.25935907],\n",
       "       [ 0.53834812,  0.28548823,  0.46470353,  0.65930066]])"
      ]
     },
     "execution_count": 105,
     "metadata": {},
     "output_type": "execute_result"
    }
   ],
   "source": [
    "vecteursProp = Propmat[:,1:]\n",
    "vecteursProp"
   ]
  },
  {
   "cell_type": "code",
   "execution_count": 106,
   "metadata": {},
   "outputs": [
    {
     "data": {
      "text/plain": [
       "array([ 2.64759074,  1.03835612,  0.71675161, -1.81534729, -0.59636568,\n",
       "       -0.13688681, -0.04729232,  0.43767374, -1.14156772, -1.10291239])"
      ]
     },
     "execution_count": 106,
     "metadata": {},
     "output_type": "execute_result"
    }
   ],
   "source": [
    "axe1 =np.dot(Z,vecteursProp[0,:].T)\n",
    "axe1"
   ]
  },
  {
   "cell_type": "code",
   "execution_count": 107,
   "metadata": {},
   "outputs": [
    {
     "data": {
      "text/plain": [
       "1.498491632568609"
      ]
     },
     "execution_count": 107,
     "metadata": {},
     "output_type": "execute_result"
    }
   ],
   "source": [
    "axe1var = axe1.var()\n",
    "axe1var"
   ]
  },
  {
   "cell_type": "code",
   "execution_count": 108,
   "metadata": {},
   "outputs": [
    {
     "data": {
      "text/plain": [
       "array([ 1.88678283,  0.67653922,  0.53373591, -1.12571358, -0.3091539 ,\n",
       "        0.14658207, -0.0498774 ,  0.18130807, -1.16214829, -0.77805492])"
      ]
     },
     "execution_count": 108,
     "metadata": {},
     "output_type": "execute_result"
    }
   ],
   "source": [
    "axe2 =np.dot(Z,vecteursProp[1,:].T)\n",
    "axe2"
   ]
  },
  {
   "cell_type": "code",
   "execution_count": null,
   "metadata": {},
   "outputs": [],
   "source": []
  }
 ],
 "metadata": {
  "kernelspec": {
   "display_name": "base",
   "language": "python",
   "name": "python3"
  },
  "language_info": {
   "codemirror_mode": {
    "name": "ipython",
    "version": 3
   },
   "file_extension": ".py",
   "mimetype": "text/x-python",
   "name": "python",
   "nbconvert_exporter": "python",
   "pygments_lexer": "ipython3",
   "version": "3.10.6"
  },
  "orig_nbformat": 4
 },
 "nbformat": 4,
 "nbformat_minor": 2
}
