{
  "cells": [
    {
      "cell_type": "code",
      "execution_count": 165,
      "metadata": {
        "colab": {
          "base_uri": "https://localhost:8080/"
        },
        "id": "LwVpFYUZ1KLi",
        "outputId": "7765d873-d02e-4aa0-8055-5ad93016e48c"
      },
      "outputs": [
        {
          "data": {
            "text/plain": [
              "array([[ 68],\n",
              "       [ 77],\n",
              "       [ 32],\n",
              "       ...,\n",
              "       [162],\n",
              "       [213],\n",
              "       [199]])"
            ]
          },
          "execution_count": 165,
          "metadata": {},
          "output_type": "execute_result"
        }
      ],
      "source": [
        "import numpy as np\n",
        "import pandas as pd\n",
        "\n",
        "df = pd.read_csv(\"./state_weather_aqi_data_mf2.csv\")\n",
        "\n",
        "x1 = df.iloc[:,5:12].values\n",
        "z1 = pd.DataFrame(x1)\n",
        "\n",
        "y1 = df.iloc[:,12:13].values\n",
        "z2 = pd.DataFrame(y1)\n",
        "y1\n"
      ]
    },
    {
      "cell_type": "code",
      "execution_count": 166,
      "metadata": {
        "id": "7_roXMIX1N3_"
      },
      "outputs": [],
      "source": [
        "from sklearn.preprocessing import OneHotEncoder\n",
        "\n",
        "ohe = OneHotEncoder()\n",
        "#x_new1 = pd.DataFrame(ohe.fit_transform(x1[:,[0]]).toarray()) #state\n",
        "#x_new2 = pd.DataFrame(ohe.fit_transform(x1[:,[1]]).toarray()) #city\n",
        "#x_new3 = pd.DataFrame(ohe.fit_transform(x1[:,[2]]).toarray()) #station"
      ]
    },
    {
      "cell_type": "code",
      "execution_count": 167,
      "metadata": {
        "colab": {
          "base_uri": "https://localhost:8080/",
          "height": 423
        },
        "id": "30rNhPmD1WDN",
        "outputId": "fda186d9-aee1-412c-9428-de7e69a9a5ef"
      },
      "outputs": [
        {
          "data": {
            "text/html": [
              "<div>\n",
              "<style scoped>\n",
              "    .dataframe tbody tr th:only-of-type {\n",
              "        vertical-align: middle;\n",
              "    }\n",
              "\n",
              "    .dataframe tbody tr th {\n",
              "        vertical-align: top;\n",
              "    }\n",
              "\n",
              "    .dataframe thead th {\n",
              "        text-align: right;\n",
              "    }\n",
              "</style>\n",
              "<table border=\"1\" class=\"dataframe\">\n",
              "  <thead>\n",
              "    <tr style=\"text-align: right;\">\n",
              "      <th></th>\n",
              "      <th>0</th>\n",
              "      <th>1</th>\n",
              "      <th>2</th>\n",
              "      <th>3</th>\n",
              "      <th>4</th>\n",
              "      <th>5</th>\n",
              "      <th>6</th>\n",
              "    </tr>\n",
              "  </thead>\n",
              "  <tbody>\n",
              "    <tr>\n",
              "      <th>0</th>\n",
              "      <td>68</td>\n",
              "      <td>64</td>\n",
              "      <td>17</td>\n",
              "      <td>4</td>\n",
              "      <td>28</td>\n",
              "      <td>31</td>\n",
              "      <td>40</td>\n",
              "    </tr>\n",
              "    <tr>\n",
              "      <th>1</th>\n",
              "      <td>67</td>\n",
              "      <td>70</td>\n",
              "      <td>23</td>\n",
              "      <td>2</td>\n",
              "      <td>13</td>\n",
              "      <td>49</td>\n",
              "      <td>77</td>\n",
              "    </tr>\n",
              "    <tr>\n",
              "      <th>2</th>\n",
              "      <td>32</td>\n",
              "      <td>64</td>\n",
              "      <td>26</td>\n",
              "      <td>5</td>\n",
              "      <td>6</td>\n",
              "      <td>19</td>\n",
              "      <td>16</td>\n",
              "    </tr>\n",
              "    <tr>\n",
              "      <th>3</th>\n",
              "      <td>93</td>\n",
              "      <td>93</td>\n",
              "      <td>31</td>\n",
              "      <td>3</td>\n",
              "      <td>9</td>\n",
              "      <td>57</td>\n",
              "      <td>61</td>\n",
              "    </tr>\n",
              "    <tr>\n",
              "      <th>4</th>\n",
              "      <td>60</td>\n",
              "      <td>55</td>\n",
              "      <td>20</td>\n",
              "      <td>5</td>\n",
              "      <td>18</td>\n",
              "      <td>29</td>\n",
              "      <td>53</td>\n",
              "    </tr>\n",
              "    <tr>\n",
              "      <th>...</th>\n",
              "      <td>...</td>\n",
              "      <td>...</td>\n",
              "      <td>...</td>\n",
              "      <td>...</td>\n",
              "      <td>...</td>\n",
              "      <td>...</td>\n",
              "      <td>...</td>\n",
              "    </tr>\n",
              "    <tr>\n",
              "      <th>1560</th>\n",
              "      <td>163</td>\n",
              "      <td>142</td>\n",
              "      <td>57</td>\n",
              "      <td>7</td>\n",
              "      <td>10</td>\n",
              "      <td>39</td>\n",
              "      <td>8</td>\n",
              "    </tr>\n",
              "    <tr>\n",
              "      <th>1561</th>\n",
              "      <td>279</td>\n",
              "      <td>215</td>\n",
              "      <td>78</td>\n",
              "      <td>11</td>\n",
              "      <td>23</td>\n",
              "      <td>31</td>\n",
              "      <td>53</td>\n",
              "    </tr>\n",
              "    <tr>\n",
              "      <th>1562</th>\n",
              "      <td>162</td>\n",
              "      <td>136</td>\n",
              "      <td>43</td>\n",
              "      <td>4</td>\n",
              "      <td>16</td>\n",
              "      <td>34</td>\n",
              "      <td>44</td>\n",
              "    </tr>\n",
              "    <tr>\n",
              "      <th>1563</th>\n",
              "      <td>213</td>\n",
              "      <td>152</td>\n",
              "      <td>55</td>\n",
              "      <td>5</td>\n",
              "      <td>11</td>\n",
              "      <td>95</td>\n",
              "      <td>64</td>\n",
              "    </tr>\n",
              "    <tr>\n",
              "      <th>1564</th>\n",
              "      <td>199</td>\n",
              "      <td>166</td>\n",
              "      <td>60</td>\n",
              "      <td>7</td>\n",
              "      <td>6</td>\n",
              "      <td>29</td>\n",
              "      <td>36</td>\n",
              "    </tr>\n",
              "  </tbody>\n",
              "</table>\n",
              "<p>1565 rows × 7 columns</p>\n",
              "</div>"
            ],
            "text/plain": [
              "        0    1   2   3   4   5   6\n",
              "0      68   64  17   4  28  31  40\n",
              "1      67   70  23   2  13  49  77\n",
              "2      32   64  26   5   6  19  16\n",
              "3      93   93  31   3   9  57  61\n",
              "4      60   55  20   5  18  29  53\n",
              "...   ...  ...  ..  ..  ..  ..  ..\n",
              "1560  163  142  57   7  10  39   8\n",
              "1561  279  215  78  11  23  31  53\n",
              "1562  162  136  43   4  16  34  44\n",
              "1563  213  152  55   5  11  95  64\n",
              "1564  199  166  60   7   6  29  36\n",
              "\n",
              "[1565 rows x 7 columns]"
            ]
          },
          "execution_count": 167,
          "metadata": {},
          "output_type": "execute_result"
        }
      ],
      "source": [
        "feature_set = pd.DataFrame(x1)\n",
        "feature_set\n"
      ]
    },
    {
      "cell_type": "code",
      "execution_count": 168,
      "metadata": {
        "id": "96IPvgTPYSCr"
      },
      "outputs": [],
      "source": [
        "# importing ml libraries\n",
        "from sklearn.model_selection import train_test_split\n",
        "from sklearn.linear_model import LinearRegression\n",
        "from sklearn.preprocessing import PolynomialFeatures\n",
        "x_train,x_test,y_train,y_test = train_test_split(feature_set,y1,test_size=0.25,random_state=0)\n"
      ]
    },
    {
      "cell_type": "code",
      "execution_count": 169,
      "metadata": {
        "id": "m4-03x-91cFi"
      },
      "outputs": [],
      "source": [
        "# multiple linear regression model\n",
        "mreg = LinearRegression()\n",
        "mreg.fit(x_train,y_train)\n",
        "mlr_y_predict = mreg.predict(x_test)"
      ]
    },
    {
      "cell_type": "code",
      "execution_count": null,
      "metadata": {},
      "outputs": [],
      "source": []
    },
    {
      "cell_type": "code",
      "execution_count": 170,
      "metadata": {
        "id": "FYVplSM_2vA7"
      },
      "outputs": [],
      "source": [
        "poly_reg = PolynomialFeatures(degree = 2)\n",
        "preg = LinearRegression()\n",
        "pf = poly_reg.fit_transform(x_train)\n",
        "preg.fit(pf,y_train)\n",
        "pr_y_predict = preg.predict(poly_reg.fit_transform(x_test))"
      ]
    },
    {
      "cell_type": "code",
      "execution_count": 171,
      "metadata": {
        "id": "9dA0ePBU1q8w"
      },
      "outputs": [],
      "source": [
        "from math import sqrt\n",
        "from sklearn import metrics\n",
        "def rmsle(real, predicted):\n",
        "    sum=0.0\n",
        "    for x in range(len(predicted)):\n",
        "        if predicted[x]<0 or real[x]<0:\n",
        "            continue\n",
        "        p = np.log(predicted[x]+1)\n",
        "        r = np.log(real[x]+1)\n",
        "        sum = sum + (p - r)**2\n",
        "    return ((sum/len(predicted))**0.5)[0]\n"
      ]
    },
    {
      "cell_type": "code",
      "execution_count": 172,
      "metadata": {
        "id": "sQxxVYG61s36"
      },
      "outputs": [],
      "source": [
        "rmse_mlr = sqrt(metrics.mean_squared_error(y_test, mlr_y_predict))\n",
        "mae_mlr = metrics.mean_absolute_error(y_test, mlr_y_predict)\n",
        "r2_mlr = metrics.r2_score(y_test,mlr_y_predict)\n",
        "rmsle_mlr = rmsle(y_test,mlr_y_predict)\n",
        "#----- polynomial regression ------------ \n",
        "rmse_pr = sqrt(metrics.mean_squared_error(y_test, pr_y_predict))\n",
        "mae_pr = metrics.mean_absolute_error(y_test, pr_y_predict)\n",
        "r2_pr = metrics.r2_score(y_test,pr_y_predict)\n",
        "rmsle_pr = rmsle(y_test,pr_y_predict)"
      ]
    },
    {
      "cell_type": "code",
      "execution_count": 173,
      "metadata": {
        "id": "h8AaYEjV3JnS"
      },
      "outputs": [],
      "source": [
        "mlr_ytp_rmse = sqrt(metrics.mean_squared_error(y_train, mreg.predict(x_train)))\n",
        "mlr_ytp_mae = metrics.mean_absolute_error(y_train, mreg.predict(x_train))\n",
        "mlr_ytp_r2 = metrics.r2_score(y_train, mreg.predict(x_train))\n",
        "m1 = mreg.predict(x_train)\n",
        "mlr_ytp_rmsle = rmsle(y_train, m1)\n",
        "#------ polynomial regression ---------\n",
        "pr_ytp_rmse = sqrt(metrics.mean_squared_error(y_train, preg.predict(poly_reg.fit_transform(x_train))))\n",
        "pr_ytp_mae = metrics.mean_absolute_error(y_train, preg.predict(poly_reg.fit_transform(x_train)))\n",
        "pr_ytp_r2 = metrics.r2_score(y_train, preg.predict(poly_reg.fit_transform(x_train)))\n",
        "pr_ytp_rmsle = rmsle(y_train, preg.predict(poly_reg.fit_transform(x_train)))\n"
      ]
    },
    {
      "cell_type": "code",
      "execution_count": 174,
      "metadata": {
        "colab": {
          "base_uri": "https://localhost:8080/"
        },
        "id": "9Jm88KCm1434",
        "outputId": "cd36e025-4580-4371-9d15-8fa037c7f97c"
      },
      "outputs": [
        {
          "name": "stdout",
          "output_type": "stream",
          "text": [
            "evaluating on training data:\n",
            "models\tR^2\tRMSE\tMAE\tRMSLE\n",
            "MLR\t0.9782\t14.8543\t9.7211\t0.1460\n",
            "PR\t0.99\t9.45\t6.438\t0.0940\n",
            "evaluating on testing data:\n",
            "models\tR^2\tRMSE\tMAE\tRMSLE\n",
            "MLR\t0.9715\t15.7810\t10.0290\t0.1371\n",
            "PR\t0.99\t9.18\t6.202\t0.0890\n"
          ]
        }
      ],
      "source": [
        "\n",
        "print(\"evaluating on training data:\")\n",
        "print(\"models\\tR^2\\tRMSE\\tMAE\\tRMSLE\")\n",
        "print(\"MLR\\t{0:.4f}\\t{1:.4f}\\t{2:.4f}\\t{3:.4f}\".format(mlr_ytp_r2,mlr_ytp_rmse,mlr_ytp_mae,mlr_ytp_rmsle))\n",
        "print(\"PR\\t{0:.2f}\\t{1:.2f}\\t{2:.3f}\\t{3:.4f}\".format(pr_ytp_r2,pr_ytp_rmse,pr_ytp_mae,pr_ytp_rmsle))\n",
        "\n",
        "print(\"evaluating on testing data:\")\n",
        "print(\"models\\tR^2\\tRMSE\\tMAE\\tRMSLE\")\n",
        "print(\"MLR\\t{0:.4f}\\t{1:.4f}\\t{2:.4f}\\t{3:.4f}\".format(r2_mlr,rmse_mlr,mae_mlr,rmsle_mlr))\n",
        "print(\"PR\\t{0:.2f}\\t{1:.2f}\\t{2:.3f}\\t{3:.4f}\".format(r2_pr,rmse_pr,mae_pr,rmsle_pr))\n",
        "\n"
      ]
    }
  ],
  "metadata": {
    "colab": {
      "provenance": []
    },
    "kernelspec": {
      "display_name": "base",
      "language": "python",
      "name": "python3"
    },
    "language_info": {
      "codemirror_mode": {
        "name": "ipython",
        "version": 3
      },
      "file_extension": ".py",
      "mimetype": "text/x-python",
      "name": "python",
      "nbconvert_exporter": "python",
      "pygments_lexer": "ipython3",
      "version": "3.9.12"
    },
    "vscode": {
      "interpreter": {
        "hash": "44ffa7779df0cf56839b12828d5bdcf59282a5db26ee1685b63752b2093908db"
      }
    }
  },
  "nbformat": 4,
  "nbformat_minor": 0
}
