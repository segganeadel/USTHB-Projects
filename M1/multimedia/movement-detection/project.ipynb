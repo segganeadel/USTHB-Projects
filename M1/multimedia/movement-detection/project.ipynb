{
 "cells": [
  {
   "cell_type": "code",
   "execution_count": 1,
   "metadata": {},
   "outputs": [],
   "source": [
    "import numpy as np\n",
    "import cv2\n",
    "import random"
   ]
  },
  {
   "cell_type": "code",
   "execution_count": 2,
   "metadata": {},
   "outputs": [],
   "source": [
    "def generate_color():\n",
    "    r = random.randint(50,200) \n",
    "    g = random.randint(50,200) \n",
    "    b = random.randint(50,200) \n",
    "    return (r,g,b)"
   ]
  },
  {
   "cell_type": "code",
   "execution_count": 3,
   "metadata": {},
   "outputs": [],
   "source": [
    "def block_matching(frame1, frame2, threshold = 10):\n",
    "    show1, show2= frame1, frame2\n",
    "    résidus = frame1 - frame2\n",
    "    block_size = (16, 16)\n",
    "    similarity = np.zeros((int(frame1.shape[0]/16), int(frame1.shape[1]/16)))\n",
    "    color = (100,100,100)\n",
    "    for i in range(int(frame1.shape[0]/16)):\n",
    "        for j in range(int(frame1.shape[1]/16)):\n",
    "            distance = 32\n",
    "            x = i*16\n",
    "            y = j*16\n",
    "            block_frame1 = frame1[x:x+16, y:y+16]\n",
    "            best_neighbor = (x, y)\n",
    "            while distance >= 1:\n",
    "                min_error = float(\"inf\")\n",
    "                for x_offset in range(-distance, distance+1, distance):\n",
    "                    for y_offset in range(-distance, distance+1, distance):\n",
    "                        x_neighbor = x + x_offset\n",
    "                        y_neighbor = y + y_offset\n",
    "                        if x_neighbor >= 0 and x_neighbor+16 <= frame2.shape[0] and y_neighbor >= 0 and y_neighbor+16 <= frame2.shape[1]:\n",
    "                            block_frame2 = frame2[x_neighbor:x_neighbor+16, y_neighbor:y_neighbor+16]\n",
    "                            error = np.mean((block_frame1 - block_frame2) ** 2)\n",
    "                            if error < min_error:\n",
    "                                min_error = error\n",
    "                                best_neighbor = (x_neighbor, y_neighbor)\n",
    "                x, y = best_neighbor\n",
    "                distance //= 2\n",
    "            similarity[i,j] = min_error\n",
    "            # For visualisation\n",
    "            if min_error<threshold:\n",
    "                cv2.rectangle(résidus, (j*16, i*16), (j*16+16, i*16+16), (0,0,0),-1)\n",
    "            else:\n",
    "                cv2.rectangle(show1, (j*16, i*16), (j*16+16, i*16+16), color, 2)\n",
    "                cv2.rectangle(show2, (y, x), (y+16, x+16), color, 2)\n",
    "                cv2.arrowedLine(show2, (j*16+8, i*16+8), (y+8, x+8), color, 2)\n",
    "                color = generate_color()\n",
    "                \n",
    "    cv2.imshow(\"Frame 1\", show1)\n",
    "    cv2.imshow(\"Frame 2\", show2)\n",
    "    cv2.imshow(\"Résidus\", résidus)\n",
    "    cv2.waitKey(0)\n",
    "    cv2.destroyAllWindows()"
   ]
  },
  {
   "cell_type": "code",
   "execution_count": 4,
   "metadata": {},
   "outputs": [
    {
     "name": "stderr",
     "output_type": "stream",
     "text": [
      "[ WARN:0@0.285] global /io/opencv/modules/imgcodecs/src/loadsave.cpp (239) findDecoder imread_('frame1.png'): can't open/read file: check file path/integrity\n",
      "[ WARN:0@0.286] global /io/opencv/modules/imgcodecs/src/loadsave.cpp (239) findDecoder imread_('frame2.png'): can't open/read file: check file path/integrity\n"
     ]
    },
    {
     "ename": "TypeError",
     "evalue": "unsupported operand type(s) for -: 'NoneType' and 'NoneType'",
     "output_type": "error",
     "traceback": [
      "\u001b[0;31m---------------------------------------------------------------------------\u001b[0m",
      "\u001b[0;31mTypeError\u001b[0m                                 Traceback (most recent call last)",
      "\u001b[0;32m/tmp/ipykernel_208499/2478071372.py\u001b[0m in \u001b[0;36m<module>\u001b[0;34m\u001b[0m\n\u001b[1;32m      2\u001b[0m \u001b[0mframe2\u001b[0m \u001b[0;34m=\u001b[0m \u001b[0mcv2\u001b[0m\u001b[0;34m.\u001b[0m\u001b[0mimread\u001b[0m\u001b[0;34m(\u001b[0m\u001b[0;34m\"frame2.png\"\u001b[0m\u001b[0;34m)\u001b[0m\u001b[0;34m\u001b[0m\u001b[0;34m\u001b[0m\u001b[0m\n\u001b[1;32m      3\u001b[0m \u001b[0;34m\u001b[0m\u001b[0m\n\u001b[0;32m----> 4\u001b[0;31m \u001b[0mblock_matching\u001b[0m\u001b[0;34m(\u001b[0m\u001b[0mframe1\u001b[0m\u001b[0;34m,\u001b[0m\u001b[0mframe2\u001b[0m\u001b[0;34m,\u001b[0m\u001b[0;36m50\u001b[0m\u001b[0;34m)\u001b[0m\u001b[0;34m\u001b[0m\u001b[0;34m\u001b[0m\u001b[0m\n\u001b[0m",
      "\u001b[0;32m/tmp/ipykernel_208499/2689017699.py\u001b[0m in \u001b[0;36mblock_matching\u001b[0;34m(frame1, frame2, threshold)\u001b[0m\n\u001b[1;32m      1\u001b[0m \u001b[0;32mdef\u001b[0m \u001b[0mblock_matching\u001b[0m\u001b[0;34m(\u001b[0m\u001b[0mframe1\u001b[0m\u001b[0;34m,\u001b[0m \u001b[0mframe2\u001b[0m\u001b[0;34m,\u001b[0m \u001b[0mthreshold\u001b[0m \u001b[0;34m=\u001b[0m \u001b[0;36m10\u001b[0m\u001b[0;34m)\u001b[0m\u001b[0;34m:\u001b[0m\u001b[0;34m\u001b[0m\u001b[0;34m\u001b[0m\u001b[0m\n\u001b[1;32m      2\u001b[0m     \u001b[0mshow1\u001b[0m\u001b[0;34m,\u001b[0m \u001b[0mshow2\u001b[0m\u001b[0;34m=\u001b[0m \u001b[0mframe1\u001b[0m\u001b[0;34m,\u001b[0m \u001b[0mframe2\u001b[0m\u001b[0;34m\u001b[0m\u001b[0;34m\u001b[0m\u001b[0m\n\u001b[0;32m----> 3\u001b[0;31m     \u001b[0mrésidus\u001b[0m \u001b[0;34m=\u001b[0m \u001b[0mframe1\u001b[0m \u001b[0;34m-\u001b[0m \u001b[0mframe2\u001b[0m\u001b[0;34m\u001b[0m\u001b[0;34m\u001b[0m\u001b[0m\n\u001b[0m\u001b[1;32m      4\u001b[0m     \u001b[0mblock_size\u001b[0m \u001b[0;34m=\u001b[0m \u001b[0;34m(\u001b[0m\u001b[0;36m16\u001b[0m\u001b[0;34m,\u001b[0m \u001b[0;36m16\u001b[0m\u001b[0;34m)\u001b[0m\u001b[0;34m\u001b[0m\u001b[0;34m\u001b[0m\u001b[0m\n\u001b[1;32m      5\u001b[0m     \u001b[0msimilarity\u001b[0m \u001b[0;34m=\u001b[0m \u001b[0mnp\u001b[0m\u001b[0;34m.\u001b[0m\u001b[0mzeros\u001b[0m\u001b[0;34m(\u001b[0m\u001b[0;34m(\u001b[0m\u001b[0mint\u001b[0m\u001b[0;34m(\u001b[0m\u001b[0mframe1\u001b[0m\u001b[0;34m.\u001b[0m\u001b[0mshape\u001b[0m\u001b[0;34m[\u001b[0m\u001b[0;36m0\u001b[0m\u001b[0;34m]\u001b[0m\u001b[0;34m/\u001b[0m\u001b[0;36m16\u001b[0m\u001b[0;34m)\u001b[0m\u001b[0;34m,\u001b[0m \u001b[0mint\u001b[0m\u001b[0;34m(\u001b[0m\u001b[0mframe1\u001b[0m\u001b[0;34m.\u001b[0m\u001b[0mshape\u001b[0m\u001b[0;34m[\u001b[0m\u001b[0;36m1\u001b[0m\u001b[0;34m]\u001b[0m\u001b[0;34m/\u001b[0m\u001b[0;36m16\u001b[0m\u001b[0;34m)\u001b[0m\u001b[0;34m)\u001b[0m\u001b[0;34m)\u001b[0m\u001b[0;34m\u001b[0m\u001b[0;34m\u001b[0m\u001b[0m\n",
      "\u001b[0;31mTypeError\u001b[0m: unsupported operand type(s) for -: 'NoneType' and 'NoneType'"
     ]
    }
   ],
   "source": [
    "frame1 = cv2.imread(\"image072.png\")\n",
    "frame2 = cv2.imread(\"image092.png\")\n",
    "\n",
    "block_matching(frame1,frame2,50)"
   ]
  },
  {
   "cell_type": "code",
   "execution_count": null,
   "metadata": {},
   "outputs": [],
   "source": []
  }
 ],
 "metadata": {
  "kernelspec": {
   "display_name": "Python 3",
   "language": "python",
   "name": "python3"
  },
  "language_info": {
   "codemirror_mode": {
    "name": "ipython",
    "version": 3
   },
   "file_extension": ".py",
   "mimetype": "text/x-python",
   "name": "python",
   "nbconvert_exporter": "python",
   "pygments_lexer": "ipython3",
   "version": "3.10.6"
  },
  "orig_nbformat": 4,
  "vscode": {
   "interpreter": {
    "hash": "916dbcbb3f70747c44a77c7bcd40155683ae19c65e1c03b4aa3499c5328201f1"
   }
  }
 },
 "nbformat": 4,
 "nbformat_minor": 2
}
