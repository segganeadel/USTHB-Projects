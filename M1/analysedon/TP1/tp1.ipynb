{
 "cells": [
  {
   "cell_type": "code",
   "execution_count": 1,
   "metadata": {},
   "outputs": [
    {
     "name": "stdout",
     "output_type": "stream",
     "text": [
      "Matrice x :\n",
      "[[14.   13.    1.5  45.  ]\n",
      " [16.   13.    1.6  50.  ]\n",
      " [15.   13.    1.65 50.  ]\n",
      " [ 9.   15.    1.75 60.  ]\n",
      " [10.   14.    1.7  60.  ]\n",
      " [ 7.   14.    1.7  60.  ]\n",
      " [ 8.   14.    1.6  70.  ]\n",
      " [13.   13.    1.6  65.  ]\n",
      " [17.   15.    1.55 60.  ]\n",
      " [11.   14.    1.7  65.  ]]\n",
      "Matrice xt :\n",
      "[[14.   16.   15.    9.   10.    7.    8.   13.   17.   11.  ]\n",
      " [13.   13.   13.   15.   14.   14.   14.   13.   15.   14.  ]\n",
      " [ 1.5   1.6   1.65  1.75  1.7   1.7   1.6   1.6   1.55  1.7 ]\n",
      " [45.   50.   50.   60.   60.   60.   70.   65.   60.   65.  ]]\n"
     ]
    }
   ],
   "source": [
    "import numpy as np\n",
    "\n",
    "x = np.array([[14, 13, 1.50, 45],\n",
    "              [16, 13, 1.60, 50],\n",
    "              [15, 13, 1.65, 50],\n",
    "              [9, 15, 1.75, 60],\n",
    "              [10, 14, 1.70, 60],\n",
    "              [7, 14, 1.70, 60],\n",
    "              [8, 14, 1.60, 70],\n",
    "              [13, 13, 1.60, 65],\n",
    "              [17, 15, 1.55, 60],\n",
    "              [11, 14, 1.70, 65]])\n",
    "\n",
    "xt = x.T\n",
    "print(\"Matrice x :\")\n",
    "print(x)\n",
    "print(\"Matrice xt :\")\n",
    "print(xt)\n"
   ]
  },
  {
   "cell_type": "code",
   "execution_count": 2,
   "metadata": {},
   "outputs": [
    {
     "name": "stdout",
     "output_type": "stream",
     "text": [
      "Individus 4, 5 et 6 :\n",
      "[[ 9.   15.    1.75 60.  ]\n",
      " [10.   14.    1.7  60.  ]\n",
      " [ 7.   14.    1.7  60.  ]]\n"
     ]
    }
   ],
   "source": [
    "indiv_4_5_6 = x[3:6, :]\n",
    "print(\"Individus 4, 5 et 6 :\")\n",
    "print(indiv_4_5_6)\n"
   ]
  },
  {
   "cell_type": "code",
   "execution_count": 7,
   "metadata": {},
   "outputs": [
    {
     "name": "stdout",
     "output_type": "stream",
     "text": [
      "Tableau x(j) :\n",
      "\n",
      "[[1.200e+01 1.380e+01 1.635e+00 5.850e+01]\n",
      " [1.100e+01 5.600e-01 6.000e-03 5.525e+01]\n",
      " [3.317e+00 7.480e-01 7.400e-02 7.433e+00]]\n"
     ]
    }
   ],
   "source": [
    "# Création du tableau x(j)\n",
    "xj = np.vstack((np.mean(x, axis=0), np.var(x, axis=0), np.std(x, axis=0)))\n",
    "\n",
    "# Arrondir les valeurs à trois décimales\n",
    "xj = np.round(xj, decimals=3)\n",
    "\n",
    "# Affichage du tableau x(j)\n",
    "print(\"Tableau x(j) :\\n\")\n",
    "print(xj)"
   ]
  },
  {
   "cell_type": "code",
   "execution_count": 4,
   "metadata": {},
   "outputs": [
    {
     "name": "stdout",
     "output_type": "stream",
     "text": [
      "Le centre de gravité est : [12.    13.8    1.635 58.5  ]\n"
     ]
    }
   ],
   "source": [
    "centre_gravite = np.mean(x, axis=0)\n",
    "print(\"Le centre de gravité est :\", centre_gravite)"
   ]
  },
  {
   "cell_type": "code",
   "execution_count": 8,
   "metadata": {},
   "outputs": [
    {
     "name": "stdout",
     "output_type": "stream",
     "text": [
      "Matrice de covariance :\n",
      " [[ 1.22222222e+01 -8.88888889e-01 -1.72222222e-01 -1.55555556e+01]\n",
      " [-8.88888889e-01  6.22222222e-01  2.44444444e-02  3.00000000e+00]\n",
      " [-1.72222222e-01  2.44444444e-02  6.13888889e-03  2.25000000e-01]\n",
      " [-1.55555556e+01  3.00000000e+00  2.25000000e-01  6.13888889e+01]]\n"
     ]
    }
   ],
   "source": [
    "# Calcul de la matrice de covariance\n",
    "v = np.cov(x, rowvar=False)\n",
    "\n",
    "# Affichage de la matrice de covariance\n",
    "print(\"Matrice de covariance :\\n\", v)"
   ]
  },
  {
   "cell_type": "code",
   "execution_count": 9,
   "metadata": {},
   "outputs": [
    {
     "name": "stdout",
     "output_type": "stream",
     "text": [
      "Matrice de corrélation :\n",
      " [[ 1.         -0.32232919 -0.62873728 -0.56789174]\n",
      " [-0.32232919  1.          0.39551461  0.48540429]\n",
      " [-0.62873728  0.39551461  1.          0.36651584]\n",
      " [-0.56789174  0.48540429  0.36651584  1.        ]]\n"
     ]
    }
   ],
   "source": [
    "# Calcul de la matrice de corrélation\n",
    "c = np.corrcoef(x, rowvar=False)\n",
    "\n",
    "# Affichage de la matrice de corrélation\n",
    "print(\"Matrice de corrélation :\\n\", c)"
   ]
  },
  {
   "cell_type": "code",
   "execution_count": 10,
   "metadata": {},
   "outputs": [
    {
     "name": "stdout",
     "output_type": "stream",
     "text": [
      "Valeurs propres :\n",
      " [6.60477567e+01 7.71547085e+00 4.72823093e-01 3.42161997e-03]\n",
      "\n",
      "Vecteurs propres :\n",
      " [[ 2.78058419e-01 -9.60333435e-01  1.61306890e-02  1.35280949e-02]\n",
      " [-4.77697706e-02  2.59201615e-03  9.98547501e-01 -2.47834255e-02]\n",
      " [-4.01130649e-03  1.33327223e-02  2.45830617e-02  9.99600831e-01]\n",
      " [-9.59367226e-01 -2.78523272e-01 -4.51482187e-02  9.75428278e-04]]\n"
     ]
    }
   ],
   "source": [
    "moyennes = np.mean(x, axis=0)\n",
    "xc = x - moyennes\n",
    "\n",
    "v = np.cov(xc, rowvar=False)\n",
    "\n",
    "# Calcul des valeurs propres et des vecteurs propres\n",
    "valeurs_propres, vecteurs_propres = np.linalg.eig(v)\n",
    "\n",
    "# Affichage des résultats\n",
    "print(\"Valeurs propres :\\n\", valeurs_propres)\n",
    "print(\"\\nVecteurs propres :\\n\", vecteurs_propres)"
   ]
  },
  {
   "cell_type": "code",
   "execution_count": 11,
   "metadata": {},
   "outputs": [
    {
     "ename": "ValueError",
     "evalue": "shapes (4,4) and (3,) not aligned: 4 (dim 1) != 3 (dim 0)",
     "output_type": "error",
     "traceback": [
      "\u001b[0;31m---------------------------------------------------------------------------\u001b[0m",
      "\u001b[0;31mValueError\u001b[0m                                Traceback (most recent call last)",
      "\u001b[0;32m/tmp/ipykernel_537367/3706883342.py\u001b[0m in \u001b[0;36m<module>\u001b[0;34m\u001b[0m\n\u001b[1;32m     12\u001b[0m \u001b[0;34m\u001b[0m\u001b[0m\n\u001b[1;32m     13\u001b[0m \u001b[0;31m# Vérification\u001b[0m\u001b[0;34m\u001b[0m\u001b[0;34m\u001b[0m\u001b[0m\n\u001b[0;32m---> 14\u001b[0;31m \u001b[0mres\u001b[0m \u001b[0;34m=\u001b[0m \u001b[0mnp\u001b[0m\u001b[0;34m.\u001b[0m\u001b[0mdot\u001b[0m\u001b[0;34m(\u001b[0m\u001b[0mA\u001b[0m\u001b[0;34m,\u001b[0m \u001b[0my\u001b[0m\u001b[0;34m)\u001b[0m\u001b[0;34m\u001b[0m\u001b[0;34m\u001b[0m\u001b[0m\n\u001b[0m\u001b[1;32m     15\u001b[0m \u001b[0;32mif\u001b[0m \u001b[0mnp\u001b[0m\u001b[0;34m.\u001b[0m\u001b[0misclose\u001b[0m\u001b[0;34m(\u001b[0m\u001b[0mres\u001b[0m\u001b[0;34m,\u001b[0m \u001b[0mlambda_\u001b[0m \u001b[0;34m*\u001b[0m \u001b[0my\u001b[0m\u001b[0;34m,\u001b[0m \u001b[0mrtol\u001b[0m\u001b[0;34m=\u001b[0m\u001b[0;36m1e-5\u001b[0m\u001b[0;34m)\u001b[0m\u001b[0;34m.\u001b[0m\u001b[0mall\u001b[0m\u001b[0;34m(\u001b[0m\u001b[0;34m)\u001b[0m\u001b[0;34m:\u001b[0m\u001b[0;34m\u001b[0m\u001b[0;34m\u001b[0m\u001b[0m\n\u001b[1;32m     16\u001b[0m     \u001b[0mprint\u001b[0m\u001b[0;34m(\u001b[0m\u001b[0;34m\"Le vecteur y est bien le vecteur propre associé à la valeur propre lambda.\"\u001b[0m\u001b[0;34m)\u001b[0m\u001b[0;34m\u001b[0m\u001b[0;34m\u001b[0m\u001b[0m\n",
      "\u001b[0;32m~/anaconda3/lib/python3.9/site-packages/numpy/core/overrides.py\u001b[0m in \u001b[0;36mdot\u001b[0;34m(*args, **kwargs)\u001b[0m\n",
      "\u001b[0;31mValueError\u001b[0m: shapes (4,4) and (3,) not aligned: 4 (dim 1) != 3 (dim 0)"
     ]
    }
   ],
   "source": [
    "# Sélection du premier vecteur propre\n",
    "premier_vp = vecteurs_propres[:, 0]\n",
    "\n",
    "# Calcul de la matrice A (la matrice de covariance v dans notre cas)\n",
    "A = v\n",
    "\n",
    "# Calcul de la valeur propre associée au premier vecteur propre\n",
    "lambda_ = valeurs_propres[0]\n",
    "\n",
    "# Vecteur à vérifier (ici on prend le premier enfant)\n",
    "y = np.array([14, 1.50, 45])\n",
    "\n",
    "# Vérification\n",
    "res = np.dot(A, y)\n",
    "if np.isclose(res, lambda_ * y, rtol=1e-5).all():\n",
    "    print(\"Le vecteur y est bien le vecteur propre associé à la valeur propre lambda.\")\n",
    "else:\n",
    "    print(\"Le vecteur y n'est pas le vecteur propre associé à la valeur propre lambda.\")\n"
   ]
  }
 ],
 "metadata": {
  "kernelspec": {
   "display_name": "base",
   "language": "python",
   "name": "python3"
  },
  "language_info": {
   "codemirror_mode": {
    "name": "ipython",
    "version": 3
   },
   "file_extension": ".py",
   "mimetype": "text/x-python",
   "name": "python",
   "nbconvert_exporter": "python",
   "pygments_lexer": "ipython3",
   "version": "3.9.12"
  },
  "orig_nbformat": 4,
  "vscode": {
   "interpreter": {
    "hash": "44ffa7779df0cf56839b12828d5bdcf59282a5db26ee1685b63752b2093908db"
   }
  }
 },
 "nbformat": 4,
 "nbformat_minor": 2
}
