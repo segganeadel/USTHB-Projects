{
 "cells": [
  {
   "cell_type": "code",
   "execution_count": 2,
   "metadata": {},
   "outputs": [],
   "source": [
    "import numpy as np\n",
    "import cv2\n",
    "import random"
   ]
  },
  {
   "cell_type": "code",
   "execution_count": 3,
   "metadata": {},
   "outputs": [],
   "source": [
    "def generate_color():\n",
    "    r = random.randint(50,200) \n",
    "    g = random.randint(50,200) \n",
    "    b = random.randint(50,200) \n",
    "    return (r,g,b)"
   ]
  },
  {
   "cell_type": "code",
   "execution_count": 8,
   "metadata": {},
   "outputs": [],
   "source": [
    "def block_matching(frame1, frame2, threshold = 10):\n",
    "    show1, show2= frame1, frame2\n",
    "    résidus = frame1 - frame2\n",
    "    # similarity = np.zeros((int(frame1.shape[0]/16), int(frame1.shape[1]/16)))\n",
    "    color = (100,100,100)\n",
    "    for i in range(int(frame1.shape[0]/16)):\n",
    "        for j in range(int(frame1.shape[1]/16)):\n",
    "            distance = 32\n",
    "            x = i*16\n",
    "            y = j*16\n",
    "            block_frame1 = frame1[x:x+16, y:y+16]\n",
    "            best_neighbor = (x, y)\n",
    "            while distance >= 1:\n",
    "                min_error = float(\"inf\")\n",
    "                for x_offset in range(-distance, distance+1, distance):\n",
    "                    for y_offset in range(-distance, distance+1, distance):\n",
    "                        x_neighbor = x + x_offset\n",
    "                        y_neighbor = y + y_offset\n",
    "                        if x_neighbor >= 0 and x_neighbor+16 <= frame2.shape[0] and y_neighbor >= 0 and y_neighbor+16 <= frame2.shape[1]:\n",
    "                            block_frame2 = frame2[x_neighbor:x_neighbor+16, y_neighbor:y_neighbor+16]\n",
    "                            error = np.mean((block_frame1 - block_frame2) ** 2)\n",
    "                            if error < min_error:\n",
    "                                min_error = error\n",
    "                                best_neighbor = (x_neighbor, y_neighbor)\n",
    "                x, y = best_neighbor\n",
    "                distance //= 2\n",
    "            # similarity[i,j] = min_error\n",
    "            # For visualisation\n",
    "            if min_error<threshold:\n",
    "                cv2.rectangle(résidus, (j*16, i*16), (j*16+16, i*16+16), (0,0,0),-1)\n",
    "            else:\n",
    "                cv2.rectangle(show1, (j*16, i*16), (j*16+16, i*16+16), color, 2)\n",
    "                cv2.rectangle(show2, (y, x), (y+16, x+16), color, 2)\n",
    "                cv2.arrowedLine(show2, (j*16+8, i*16+8), (y+8, x+8), color, 2)\n",
    "                color = generate_color()\n",
    "                \n",
    "    cv2.imshow(\"Frame 1\", show1)\n",
    "    cv2.imshow(\"Frame 2\", show2)\n",
    "    cv2.imshow(\"Résidus\", résidus)\n",
    "    cv2.waitKey(0)\n",
    "    cv2.destroyAllWindows()"
   ]
  },
  {
   "cell_type": "code",
   "execution_count": 9,
   "metadata": {},
   "outputs": [],
   "source": [
    "frame1 = cv2.imread(\"frame1.png\")\n",
    "frame2 = cv2.imread(\"frame2.png\")\n",
    "\n",
    "block_matching(frame1,frame2,50)"
   ]
  },
  {
   "cell_type": "code",
   "execution_count": null,
   "metadata": {},
   "outputs": [],
   "source": []
  }
 ],
 "metadata": {
  "kernelspec": {
   "display_name": "Python 3",
   "language": "python",
   "name": "python3"
  },
  "language_info": {
   "codemirror_mode": {
    "name": "ipython",
    "version": 3
   },
   "file_extension": ".py",
   "mimetype": "text/x-python",
   "name": "python",
   "nbconvert_exporter": "python",
   "pygments_lexer": "ipython3",
   "version": "3.10.6 (main, Nov 14 2022, 16:10:14) [GCC 11.3.0]"
  },
  "orig_nbformat": 4,
  "vscode": {
   "interpreter": {
    "hash": "916dbcbb3f70747c44a77c7bcd40155683ae19c65e1c03b4aa3499c5328201f1"
   }
  }
 },
 "nbformat": 4,
 "nbformat_minor": 2
}
